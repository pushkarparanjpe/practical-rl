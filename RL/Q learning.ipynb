{
 "cells": [
  {
   "cell_type": "code",
   "execution_count": 6,
   "metadata": {},
   "outputs": [],
   "source": [
    "# Basic Q-learning algorithm\n",
    "# src: http://mnemstudio.org/path-finding-q-learning-tutorial.htm\n",
    "# e.g.: http://firsttimeprogrammer.blogspot.com/2016/09/getting-ai-smarter-with-q-learning.html"
   ]
  },
  {
   "cell_type": "code",
   "execution_count": 2,
   "metadata": {},
   "outputs": [],
   "source": [
    "import numpy as np"
   ]
  },
  {
   "cell_type": "code",
   "execution_count": 3,
   "metadata": {},
   "outputs": [
    {
     "name": "stdout",
     "output_type": "stream",
     "text": [
      "Reward matrix:\n",
      "[[ -1  -1  -1  -1   0  -1]\n",
      " [ -1  -1  -1   0  -1 100]\n",
      " [ -1  -1  -1   0  -1  -1]\n",
      " [ -1   0   0  -1   0  -1]\n",
      " [  0  -1  -1   0  -1 100]\n",
      " [ -1   0  -1  -1   0 100]]\n",
      "\n",
      "Value matrix:\n",
      "[[0 0 0 0 0 0]\n",
      " [0 0 0 0 0 0]\n",
      " [0 0 0 0 0 0]\n",
      " [0 0 0 0 0 0]\n",
      " [0 0 0 0 0 0]\n",
      " [0 0 0 0 0 0]]\n",
      "\n",
      "Being episodes...\n",
      "Done training.\n",
      "\n",
      "Value matrix:\n",
      "[[  0   0   0   0 396   0]\n",
      " [  0   0   0 316   0 496]\n",
      " [  0   0   0 316   0   0]\n",
      " [  0 396 252   0 396   0]\n",
      " [316   0   0 316   0 496]\n",
      " [  0 396   0   0 396 496]]\n"
     ]
    }
   ],
   "source": [
    "# Define the reward matrix R\n",
    "# - R is a 6 x 6 matrix\n",
    "# - rows are states, cols are actions\n",
    "R = np.array([\n",
    "    [-1, -1, -1, -1, 0, -1],\n",
    "    [-1, -1, -1, 0, -1, 100],\n",
    "    [-1, -1, -1, 0, -1, -1],\n",
    "    [-1, 0, 0, -1, 0, -1],\n",
    "    [0, -1, -1, 0, -1, 100],\n",
    "    [-1, 0, -1, -1, 0, 100],\n",
    "])\n",
    "print('Reward matrix:')\n",
    "print(R)\n",
    "print()\n",
    "\n",
    "# Define the value matrix Q\n",
    "# - Q is a 6 x 6 matrix\n",
    "# - rows are states, cols are actions\n",
    "Q = np.array([\n",
    "    [0, 0, 0, 0, 0, 0],\n",
    "    [0, 0, 0, 0, 0, 0],\n",
    "    [0, 0, 0, 0, 0, 0],\n",
    "    [0, 0, 0, 0, 0, 0],\n",
    "    [0, 0, 0, 0, 0, 0],\n",
    "    [0, 0, 0, 0, 0, 0],\n",
    "])\n",
    "print('Value matrix:')\n",
    "print(Q)\n",
    "print()\n",
    "\n",
    "# Define the gamma\n",
    "gamma = 0.8\n",
    "\n",
    "# Define the absorbing state\n",
    "ABSORBING_STATE = 5\n",
    "\n",
    "# Repeat for n episodes\n",
    "n = 1000\n",
    "print(\"Being episodes...\")\n",
    "for _ in range(n):\n",
    "    # Choose a random current state\n",
    "    s = np.random.choice(range(6))\n",
    "    # Do while absorbing state not reached\n",
    "    while True:\n",
    "        # Gell all actions from current state\n",
    "        action_set = [k for k in range(6) if R[s, k] != -1]\n",
    "        # Choose a random action\n",
    "        a = np.random.choice(action_set)\n",
    "        # Next state\n",
    "        s_nxt = a\n",
    "        # Set of all actions from s_next\n",
    "        action_set = [k for k in range(6) if R[s_nxt, k] != -1]\n",
    "        # Choose the best action\n",
    "        best_action = max(action_set, key=lambda _a: Q[s_nxt, _a])\n",
    "        # Update the Q matrix\n",
    "        Q[s, a] = R[s, a] + gamma*Q[s_nxt, best_action]\n",
    "        # Update current state\n",
    "        s = s_nxt\n",
    "        if s == ABSORBING_STATE:\n",
    "            break\n",
    "print(\"Done training.\")\n",
    "print()\n",
    "\n",
    "# End learning\n",
    "print('Value matrix:')\n",
    "print(Q)"
   ]
  },
  {
   "cell_type": "code",
   "execution_count": 7,
   "metadata": {},
   "outputs": [],
   "source": [
    "def get_opt_path(s):\n",
    "    steps = [str(s)]\n",
    "    while True:\n",
    "        s_nxt = Q[s].argmax()\n",
    "        steps.append(str(s_nxt))\n",
    "        s = s_nxt\n",
    "        if s_nxt == ABSORBING_STATE:\n",
    "            break\n",
    "    print('Optimal path:', '-'.join(steps))"
   ]
  },
  {
   "cell_type": "code",
   "execution_count": 8,
   "metadata": {},
   "outputs": [
    {
     "name": "stdout",
     "output_type": "stream",
     "text": [
      "Optimal path: 0-4-5\n",
      "Optimal path: 1-5\n",
      "Optimal path: 2-3-1-5\n",
      "Optimal path: 3-1-5\n",
      "Optimal path: 4-5\n",
      "Optimal path: 5-5\n"
     ]
    }
   ],
   "source": [
    "for s in range(6):\n",
    "    get_opt_path(s)\n"
   ]
  },
  {
   "cell_type": "code",
   "execution_count": null,
   "metadata": {},
   "outputs": [],
   "source": []
  },
  {
   "cell_type": "code",
   "execution_count": null,
   "metadata": {},
   "outputs": [],
   "source": []
  },
  {
   "cell_type": "code",
   "execution_count": null,
   "metadata": {},
   "outputs": [],
   "source": []
  },
  {
   "cell_type": "code",
   "execution_count": null,
   "metadata": {},
   "outputs": [],
   "source": []
  },
  {
   "cell_type": "code",
   "execution_count": null,
   "metadata": {},
   "outputs": [],
   "source": []
  },
  {
   "cell_type": "code",
   "execution_count": null,
   "metadata": {},
   "outputs": [],
   "source": []
  },
  {
   "cell_type": "code",
   "execution_count": null,
   "metadata": {},
   "outputs": [],
   "source": []
  },
  {
   "cell_type": "code",
   "execution_count": null,
   "metadata": {},
   "outputs": [],
   "source": []
  },
  {
   "cell_type": "code",
   "execution_count": null,
   "metadata": {},
   "outputs": [],
   "source": []
  },
  {
   "cell_type": "code",
   "execution_count": null,
   "metadata": {},
   "outputs": [],
   "source": []
  }
 ],
 "metadata": {
  "kernelspec": {
   "display_name": "Python 3",
   "language": "python",
   "name": "python3"
  },
  "language_info": {
   "codemirror_mode": {
    "name": "ipython",
    "version": 3
   },
   "file_extension": ".py",
   "mimetype": "text/x-python",
   "name": "python",
   "nbconvert_exporter": "python",
   "pygments_lexer": "ipython3",
   "version": "3.6.5"
  }
 },
 "nbformat": 4,
 "nbformat_minor": 2
}
